{
 "cells": [
  {
   "cell_type": "markdown",
   "metadata": {},
   "source": [
    "<a href=\"https://colab.research.google.com/github/FFFreitas/2nd-Workshop-on-Compact-Objects-Gravitational-Waves-and-Deep-Learning/blob/main/hands-on/Hands%20on%203.ipynb\">\n",
    "  <img src=\"https://colab.research.google.com/assets/colab-badge.svg\" alt=\"Open In Colab\"/>\n",
    "</a>"
   ]
  },
  {
   "cell_type": "markdown",
   "metadata": {
    "id": "7NaG98JhZfWs"
   },
   "source": [
    "# Building our dataset\n",
    "\n",
    "now that wa have donwloaded the samples from CoRe database we can start to build our *dataset* and *dataloader* using *PyTorch*. Lets explore a little more on the dataset we have in hands"
   ]
  },
  {
   "cell_type": "code",
   "execution_count": null,
   "metadata": {
    "id": "yF4mJ6xQZlTf"
   },
   "outputs": [],
   "source": [
    "from google.colab import drive"
   ]
  },
  {
   "cell_type": "code",
   "execution_count": null,
   "metadata": {
    "colab": {
     "base_uri": "https://localhost:8080/"
    },
    "id": "JgDgCsEeZlQX",
    "outputId": "65f69e21-21af-4855-93c1-ca5d5889ab22"
   },
   "outputs": [],
   "source": [
    "drive.mount('/content/gdrive', force_remount=True)"
   ]
  },
  {
   "cell_type": "code",
   "execution_count": null,
   "metadata": {
    "colab": {
     "base_uri": "https://localhost:8080/"
    },
    "id": "3goNvzCWZlMp",
    "outputId": "f3514e42-76cb-4db2-dc24-18fea8448b20"
   },
   "outputs": [],
   "source": [
    "!ls gdrive/MyDrive/2nd\\ Workshop\\ GW/Notebooks"
   ]
  },
  {
   "cell_type": "code",
   "execution_count": null,
   "metadata": {
    "id": "8CXZhCE_ZfWw"
   },
   "outputs": [],
   "source": [
    "import numpy as np\n",
    "import h5py\n",
    "import matplotlib.pyplot as plt\n",
    "from pathlib import Path"
   ]
  },
  {
   "cell_type": "code",
   "execution_count": null,
   "metadata": {
    "id": "T2Jzc76jZfWx"
   },
   "outputs": [],
   "source": [
    "from torch.utils.data import Dataset, DataLoader, random_split\n",
    "import torch\n",
    "from torchvision.utils import make_grid"
   ]
  },
  {
   "cell_type": "code",
   "execution_count": null,
   "metadata": {
    "id": "K8KrnNDUZfWx"
   },
   "outputs": [],
   "source": [
    "def pad_seq(seq, max_size = 1024):\n",
    "    size = np.shape(seq)\n",
    "    px = np.abs(max_size - size[0])\n",
    "    seq = np.pad(seq, (np.int(np.floor(px/2.)), np.int(np.ceil(px/2.))), 'constant')\n",
    "    return seq"
   ]
  },
  {
   "cell_type": "code",
   "execution_count": null,
   "metadata": {
    "id": "mCrCIgAlZfWy"
   },
   "outputs": [],
   "source": [
    "def interp_selct(timeseries, window=300, out_len=2048):\n",
    "    timeseries /= timeseries.max()\n",
    "    idx_max = timeseries.argmax()\n",
    "    selected = timeseries[idx_max-window:]\n",
    "    shape = selected.shape[-1]\n",
    "    interp = np.interp(np.linspace(0,shape,num=out_len),np.arange(shape), selected)\n",
    "    return interp"
   ]
  },
  {
   "cell_type": "code",
   "execution_count": null,
   "metadata": {
    "id": "E2LqntkzZfWy"
   },
   "outputs": [],
   "source": [
    "class Data_GW(Dataset):\n",
    "    def __init__(self,  transform=None):\n",
    "        self.transform = transform\n",
    "        f = h5py.File('gdrive/MyDrive/2nd Workshop GW/Notebooks/datasets/BSk20_redux.hdf5', 'r')\n",
    "        self.samples = list(f['waves'])\n",
    "            \n",
    "    def __getitem__(self, idx):\n",
    "\n",
    "        sample = {\n",
    "            'waveform':self.samples[idx].reshape(-1)\n",
    "        }\n",
    "        if self.transform is not None:\n",
    "            sample = self.transform(sample)\n",
    "        \n",
    "        return sample\n",
    "    \n",
    "    def __len__(self):\n",
    "        return len(self.samples)"
   ]
  },
  {
   "cell_type": "code",
   "execution_count": null,
   "metadata": {
    "id": "TXM2HQVuZfWy"
   },
   "outputs": [],
   "source": [
    "def my_collate(batch):\n",
    "    #function to transform the batches at once\n",
    "    data = np.stack([interp_selct(item['waveform']).reshape(1,-1) for item in batch])\n",
    "    data = torch.from_numpy(data).float()\n",
    "    return {'waveform':data}"
   ]
  },
  {
   "cell_type": "code",
   "execution_count": null,
   "metadata": {
    "id": "Xz1bm-TJZfWz"
   },
   "outputs": [],
   "source": [
    "dataset = Data_GW()"
   ]
  },
  {
   "cell_type": "code",
   "execution_count": null,
   "metadata": {
    "id": "KL-NInA6ZfWz"
   },
   "outputs": [],
   "source": [
    "len_data = len(dataset)\n",
    "len_train = int(.8*len_data)\n",
    "len_val = len_data - len_train"
   ]
  },
  {
   "cell_type": "code",
   "execution_count": null,
   "metadata": {
    "id": "tV3ybZBAZfW0"
   },
   "outputs": [],
   "source": [
    "train_ds, val_ds = random_split(dataset, [len_train, len_val])"
   ]
  },
  {
   "cell_type": "code",
   "execution_count": null,
   "metadata": {
    "colab": {
     "base_uri": "https://localhost:8080/"
    },
    "id": "gOl19WeKZfW0",
    "outputId": "7b900b21-cad9-42fa-9733-df3a52571f27"
   },
   "outputs": [],
   "source": [
    "len(train_ds)"
   ]
  },
  {
   "cell_type": "code",
   "execution_count": null,
   "metadata": {
    "colab": {
     "base_uri": "https://localhost:8080/"
    },
    "id": "QQXDk519ZfW1",
    "outputId": "5a2cbded-94f4-4d72-a7da-dbc74d82ce06"
   },
   "outputs": [],
   "source": [
    "dataset[8]['waveform'].shape"
   ]
  },
  {
   "cell_type": "code",
   "execution_count": null,
   "metadata": {
    "colab": {
     "base_uri": "https://localhost:8080/",
     "height": 293
    },
    "id": "VnY-FsstZfW1",
    "outputId": "9f415d22-5206-44ef-b972-c3a3e521634f"
   },
   "outputs": [],
   "source": [
    "plt.plot(dataset[-10]['waveform'])"
   ]
  },
  {
   "cell_type": "code",
   "execution_count": null,
   "metadata": {
    "id": "74dZ8Qt8ZfW1"
   },
   "outputs": [],
   "source": []
  },
  {
   "cell_type": "code",
   "execution_count": null,
   "metadata": {
    "colab": {
     "base_uri": "https://localhost:8080/",
     "height": 439
    },
    "id": "sPC2ikF6ZfW2",
    "outputId": "2fd51ff5-9966-44b4-e008-7ba656900bb6"
   },
   "outputs": [],
   "source": [
    "show_sample(4, dataset)"
   ]
  },
  {
   "cell_type": "code",
   "execution_count": null,
   "metadata": {
    "colab": {
     "base_uri": "https://localhost:8080/"
    },
    "id": "m0-o2odJZfW2",
    "outputId": "a6013621-dce7-477f-993f-1972ecfc2234"
   },
   "outputs": [],
   "source": [
    "trn_loader = DataLoader(train_ds, batch_size=128,  collate_fn=my_collate, shuffle=True, num_workers=4, pin_memory=True, drop_last=True)\n",
    "val_loader = DataLoader(val_ds, batch_size=16, collate_fn=my_collate,shuffle=False, num_workers=4, pin_memory=True)"
   ]
  },
  {
   "cell_type": "code",
   "execution_count": null,
   "metadata": {
    "colab": {
     "base_uri": "https://localhost:8080/"
    },
    "id": "rfLPbvqAZfW2",
    "outputId": "597c77f5-3801-4857-9a40-9a4e0a1c1efd"
   },
   "outputs": [],
   "source": [
    "ob = next(iter(trn_loader))"
   ]
  },
  {
   "cell_type": "code",
   "execution_count": null,
   "metadata": {
    "colab": {
     "base_uri": "https://localhost:8080/"
    },
    "id": "-z5pW0wfZfW2",
    "outputId": "2cbbe7c6-29cc-424f-b427-77eaec96945b"
   },
   "outputs": [],
   "source": [
    "ob['waveform'].shape"
   ]
  },
  {
   "cell_type": "markdown",
   "metadata": {
    "id": "GASbDS1iZfW3"
   },
   "source": [
    "# The model\n",
    "\n",
    "Now we have our dataset ready, we can start to prepare our Generator and discriminator. For that we are going to use the [WaveGan](https://arxiv.org/pdf/1802.04208.pdf) archtecture with some tricks we learned in previous lectures"
   ]
  },
  {
   "cell_type": "markdown",
   "metadata": {
    "id": "gX39TgtpZfW3"
   },
   "source": [
    "## INTRINSIC DIFFERENCES BETWEEN AUDIO AND IMAGES\n",
    "\n",
    "One way to illustrate the differences between audio and images is by examining the axes along which these types of data vary most substantially, i.e. by principal component analysis.\n",
    "\n",
    "![componentes.png](data:image/png;base64,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)\n",
    "*First eight principal components for $5\\times 5$ patches from natural images (**left**) versus those of length-25 audio slices from speech (**right**). Periodic patterns are unusual in natural images but a fundamental structure in audio.*\n",
    "\n",
    "While the principal components of images generally capture intensity, gradient, and edge characteristics, those from audio form a periodic basis that decompose the audio into constituent frequency bands. In general, natural audio signals are more likely to exhibit periodicity than natural images.\n",
    "\n",
    "As a consequence, correlations across large windows are commonplace in audio. For example, in a waveform sampled at 16 kHz, a 440 Hz sinusoid (the musical note A4) takes over 36 samples to complete a single cycle. This suggests that filters with larger receptive fields are needed to process raw audio. This same intuition motivated van den Oord et al. (2016) in their design of WaveNet, which uses dilated convolutions to exponentially increase the model’s effective receptive field with linear increase in layer depth."
   ]
  },
  {
   "cell_type": "markdown",
   "metadata": {
    "id": "Rcw-uJb0ZfW3"
   },
   "source": [
    "# The WaveGan architecture\n",
    "\n",
    "The WaveGAN architecture is based off of the [DCGAN](https://arxiv.org/abs/1511.06434) which popularized usage of GANs for image synthesis. The DCGAN generator uses the transposed convolution operation to iteratively upsample low-resolution feature maps into a high-resolution image.\n",
    "\n",
    "The key difference the WaveGan has is the modification of the transposed convolution operation to widen its receptive field. Specifically, we use longer one-dimensional filters of length 25 instead of two-dimensional filters of size 5x5, and we upsample by a factor of 4 instead of 2 at each layer\n",
    "\n",
    "The original WaveGan outputs a vector with 16384 samples, slightly more than one second of audio at 16 kHz. We reduce two layers to have the same sample rate as our waveforms. In summary we have the following modifications from the original DCGAN:\n",
    "\n",
    "1. Flatten 2D convolutions into 1D (e.g. 5x5 2D convolution becomes length-25 1D).\n",
    "2. Increase the stride factor for all convolutions (e.g. stride 2x2 becomes stride 4).\n",
    "3. Remove batch normalization from the generator and discriminator.\n",
    "4. Train using the WGAN-GP (Gulrajani et al., 2017) strategy"
   ]
  },
  {
   "cell_type": "markdown",
   "metadata": {
    "id": "HrCwVOUoZfW4"
   },
   "source": [
    "## PHASE SHUFFLE\n",
    "\n",
    "Generative image models that upsample by transposed convolution (such as DCGAN) are known to produce characteristic [\"checkerboard\"](https://distill.pub/2016/deconv-checkerboard/) artifacts in images. Periodic patterns are less common in images (Section 3.1), and thus the discriminator can learn to reject images that contain them.\n",
    "\n",
    "For the case of audio signal, the original data used in the WaveGan, analogous artifacts are perceived as pitched noise which may overlap with frequencies commonplace in the real data, making the discriminator’s objective more challenging. However, the artifact frequencies will always occur at a particular phase, allowing the discriminator to learn a trivial policy to reject generated examples. This may inhibit the overall optimization problem.\n",
    "\n",
    "To prevent the discriminator from learning such a solution, the authors propose the *phase shuffle* operation with hyperparameter *n*. Phase shuffle randomly perturbs the phase of each layer’s activations by $-n$ to $n$ samples before input to the next layer.\n",
    "\n",
    "The Phase shuffle operation is applied only on the discriminator, as the latent vector already provides the generator a mechanism to manipulate the phase of a resultant waveform. Intuitively speaking, phase shuffle makes the discriminator’s job more challenging by requiring invariance to the phase of the input waveform."
   ]
  },
  {
   "cell_type": "code",
   "execution_count": null,
   "metadata": {
    "id": "FwJgkhckZfW4"
   },
   "outputs": [],
   "source": [
    "from torch.autograd import grad, Variable\n",
    "\n",
    "import torch.nn as nn\n",
    "import torch.nn.functional as F\n",
    "import torch.optim as optim"
   ]
  },
  {
   "cell_type": "markdown",
   "metadata": {
    "id": "FKMNIkMRZfW4"
   },
   "source": [
    "# Starting with the transposed 1D layer"
   ]
  },
  {
   "cell_type": "code",
   "execution_count": null,
   "metadata": {
    "id": "CSYSsqiaZfW4"
   },
   "outputs": [],
   "source": []
  },
  {
   "cell_type": "code",
   "execution_count": null,
   "metadata": {
    "id": "4W-DC5DqZfW5"
   },
   "outputs": [],
   "source": []
  },
  {
   "cell_type": "markdown",
   "metadata": {
    "id": "6bvYPd05ZfW5"
   },
   "source": [
    "# Now we move to the Conv1D module:"
   ]
  },
  {
   "cell_type": "code",
   "execution_count": null,
   "metadata": {
    "id": "KiPereSYZfW5"
   },
   "outputs": [],
   "source": []
  },
  {
   "cell_type": "markdown",
   "metadata": {
    "id": "E7QCIRnAZfW5"
   },
   "source": [
    "# Building the Generator"
   ]
  },
  {
   "cell_type": "code",
   "execution_count": null,
   "metadata": {
    "id": "QwgzI9EJZfW5"
   },
   "outputs": [],
   "source": []
  },
  {
   "cell_type": "markdown",
   "metadata": {
    "id": "9nuzgXQDZfW6"
   },
   "source": [
    "## And the discriminator"
   ]
  },
  {
   "cell_type": "code",
   "execution_count": null,
   "metadata": {
    "id": "lDsJuf67ZfW6"
   },
   "outputs": [],
   "source": []
  },
  {
   "cell_type": "code",
   "execution_count": null,
   "metadata": {
    "id": "QI9737o9ZfW6"
   },
   "outputs": [],
   "source": [
    "def apply_zero_grad(generator,optimizer_g,discriminator,optimizer_d):\n",
    "    generator.zero_grad()\n",
    "    optimizer_g.zero_grad()\n",
    "\n",
    "    discriminator.zero_grad()\n",
    "    optimizer_d.zero_grad()"
   ]
  },
  {
   "cell_type": "code",
   "execution_count": null,
   "metadata": {
    "id": "rBS3JxY3ZfW6"
   },
   "outputs": [],
   "source": [
    "def sample_noise(size,noise_latent_dim):\n",
    "    z = torch.FloatTensor(size, noise_latent_dim).to('cuda')\n",
    "    z.data.normal_()  # generating latent space based on normal distribution\n",
    "    return z"
   ]
  },
  {
   "cell_type": "code",
   "execution_count": null,
   "metadata": {
    "id": "8uhoCcQCZfW7"
   },
   "outputs": [],
   "source": [
    "def update_optimizer_lr(optimizer, lr, decay):\n",
    "    for param_group in optimizer.param_groups:\n",
    "        param_group[\"lr\"] = lr * decay\n",
    "def gradients_status(model, flag):\n",
    "    for p in model.parameters():\n",
    "        p.requires_grad = flag"
   ]
  },
  {
   "cell_type": "code",
   "execution_count": null,
   "metadata": {
    "id": "c4RtGnFhZfW7"
   },
   "outputs": [],
   "source": [
    "def enable_disc_disable_gen(discriminator,generator):\n",
    "        gradients_status(discriminator, True)\n",
    "        gradients_status(generator, False)\n",
    "\n",
    "def enable_gen_disable_disc(discriminator,generator):\n",
    "    gradients_status(discriminator, False)\n",
    "    gradients_status(generator, True)\n",
    "\n",
    "def disable_all(discriminator,generator):\n",
    "    gradients_status(discriminator, False)\n",
    "    gradients_status(generator, False)"
   ]
  },
  {
   "cell_type": "markdown",
   "metadata": {
    "id": "80HzrZ-qZfW7"
   },
   "source": [
    "# Understanding the Wasserstein distance\n",
    "\n",
    "GANs have been known to be hard to train, especially if you have tried to build one from scratch. The Wasserstein GAN (WGAN) was proposed by Martin Arjovsky, Soumith Chintala, and Léon Bottou in their paper, [*Wasserstein GAN*](https://arxiv.org/abs/1701.07875). Martin Arjovsky and Léon Bottou also laid the groundwork in an earlier paper, [*Towards Principled Methods for Training Generative Adversarial Networks*](https://arxiv.org/abs/1701.04862)."
   ]
  },
  {
   "cell_type": "markdown",
   "metadata": {
    "id": "YUZuNWwKZfW7"
   },
   "source": [
    "## Analyzing the problems with vanilla GAN loss:\n",
    "\n",
    "Let's go over the commonly used loss functions for GANs:\n",
    "\n",
    "$$\\mathbb{E}_{real}[\\log D(x)] + \\mathbb{E}_{fake}[\\log(1 - D(x))]$$\n",
    "\n",
    "which is the vanilla form of GAN loss\n",
    "\n",
    "$$\\mathbb{E}_{fake}[\\log(1 - D(x))]$$\n",
    "\n",
    "$$\\mathbb{E}_{fake}[-\\log(D(x))]$$\n",
    "\n",
    "The experimental shown that these loss functions work well in several applications. However, let's dig deep into these functions and see what could go wrong when they don't work so well:"
   ]
  },
  {
   "cell_type": "markdown",
   "metadata": {
    "id": "PBdGuGotZfW7"
   },
   "source": [
    "## Step 1: Problems with the first loss function:\n",
    "\n",
    "Assume that the generator network is trained and we need to find an optimal discriminator network D. We have the following:\n",
    "\n",
    "$$P_r(x)\\log D(x) + P_f(x)log(1-D(x))$$\n",
    "\n",
    "Where, $P_r(x)$ represents the distribution of real data and $P_f(x)$ represents the distribution of fake (generated) data. $x$ is the real data when calculating $\\mathbb{E}_{real}$ and the fake data when calculating $\\mathbb{E}_{fake}$\n",
    "\n",
    "To find the minimum of the formula, we let its derivatives regarding $D$ to be zero and get the following:\n",
    "\n",
    "$$D^{\\prime}(x) = \\frac{P_r(x)}{P_r(x) + P_f(x)}$$\n",
    "\n",
    "Therefore, the first loss function becomes (when D is optimal) as follows:\n",
    "\n",
    "$$\\mathbb{E}_{real}[\\frac{P_r(x)}{\\frac{1}{2}(P_r(x) + P_f(x))}] + \\mathbb{E}_{fake}[\\frac{P_r(x)}{\\frac{1}{2}(P_r(x) + P_f(x))}] - 2\\log 2$$\n",
    " \n",
    "$$ = 2\\mathrm{JS}(P_r\\vert\\vert P_f) - 2\\log 2$$"
   ]
  },
  {
   "cell_type": "markdown",
   "metadata": {
    "id": "uy-yztXbZfW7"
   },
   "source": [
    "is the [Jensen-Shannon divergence](https://en.wikipedia.org/wiki/Jensen%E2%80%93Shannon_divergence) (JS divergence), which is the symmetric version of the [Kullback-Leibler divergence](https://en.wikipedia.org/wiki/Kullback%E2%80%93Leibler_divergence) (KL divergence):\n",
    "\n",
    "$$KL(P_r\\vert\\vert P_f) = \\mathbb{E}_{P_r}[\\log\\frac{P_r}{P_f}]$$ \n",
    "\n",
    "$$JS(P_r\\vert\\vert P_f) = \\frac{1}{2} KL(P_r \\vert\\vert \\frac{P_r + P_f}{2}) + \\frac{1}{2} KL(P_f \\vert\\vert \\frac{P_r + P_f}{2})$$\n",
    "\n",
    "The Kullback-Leibler divergence is usually used to describe the distance between two distributions. It equals the cross entropy of $P_r$ and $P_f$ minus the entropy of $P_r$, which is why KL divergence is also called relative entropy.\n",
    "\n",
    "Keep in mind that KL divergence is not symmetric, for $P_r = 0$ and $P_f = 1$ we have $KL(P_r\\vert\\vert P_f) = 0$, while for the case of $P_r = 1$ and $P_f = 0$ the becomes $KL(P_r\\vert\\vert P_f) = \\infty$"
   ]
  },
  {
   "cell_type": "markdown",
   "metadata": {
    "id": "LttlJZSKZfW8"
   },
   "source": [
    "!! **A problem with *JS* divergence is that when $P_r$ and $P_f$ are apart from each other (with no or little overlapping part), its value remains $-2\\log 2$ no matter how far away $P_r$ and $P_f$ are from each other. It's rather reasonable to assume that $P_r$ and $P_f$ are no way near each other at the beginning of training (since the generator is randomly initialized and could be anywhere in the data space). A nearly constant loss is hardly giving useful information to the derivatives when the discriminator is optimal. Therefore, when using the first form of loss in GANs, a well-trained discriminator will stop the generator from improving itself** !!"
   ]
  },
  {
   "cell_type": "markdown",
   "metadata": {
    "id": "3H7vwmLuZfW8"
   },
   "source": [
    "## Step 2: The problems with the other two loss functions:\n",
    "\n",
    "Let's take the third loss for example. It can be written as follows:\n",
    "\n",
    "$$KL(P_r\\vert\\vert P_f) - \\mathbb{E}_{P_f}[\\log (1-D^{\\prime})]$$ \n",
    "$$ = KL(P_r\\vert\\vert P_f) - 2 JS(P_r \\vert\\vert P_f) + 2\\log 2 + \\mathbb{E}_{P_r}[\\log (D^{\\prime})]$$\n",
    "\n",
    "The last two terms are irrelevant to the generator. The first two terms are, however, aiming for totally opposite objectives (minimizing the KL divergence while maximizing the JS divergence). This causes the training to be very unstable. On the other hand, the employment of KL divergence can lead to **mode collapse**. Failing to generate realistic samples is severely penalized ($KL(P_r\\vert\\vert P_f) = \\infty$ when $P_f > 0$ and $P_r = 0$) but generating only a few kinds of realistic samples is not penalized ($KL(P_r\\vert\\vert P_f) = 0$ when $P_f = 0$ and $P_r > 0$). This makes the generator more prone to generate samples with less variety."
   ]
  },
  {
   "cell_type": "markdown",
   "metadata": {
    "id": "p36RShLNZfW8"
   },
   "source": [
    "# The advantages of Wasserstein distance\n",
    "\n",
    "Wasserstein distance (also called Earth Mover's Distance or EMD) is defined as follows:\n",
    "\n",
    "$$ W(P_r, P_f) = \\text{inf}_{\\gamma \\sim \\pi} \\mathbb{E}_{(x,y)\\sim\\gamma}[\\vert\\vert x - y \\vert\\vert]$$\n",
    "\n",
    "$$ = \\frac{1}{K}\\text{sup}_{\\vert\\vert f\\vert\\vert_L \\leq K} \\mathbb{E}_{P_r}[f] - \\mathbb{E}_{P_f}[f]$$\n",
    "\n",
    "It essentially describes the least distance between two variables sampled from all possible joint distributions. In plain words, it is the minimum cost of moving one pile of dirt (in a shape of certain distribution) to form a different pile (another distribution).\n",
    "\n",
    "Compared to JS divergence, the Wasserstein distance can properly describe the distance between real data and fake data even when they are far apart from each other. Therefore, the derivatives can be correctly calculated to update the generator network when the discriminator is good."
   ]
  },
  {
   "cell_type": "markdown",
   "metadata": {
    "id": "pzxfkVoIZfW8"
   },
   "source": [
    "To find the most suitable function, f, we can simply train a neural network to estimate it (luckily, we are already training a discriminator network). An important condition for the second line of the equation to hold is that all functions, f, are [Lipschitz continuous](https://en.wikipedia.org/wiki/Lipschitz_continuity):\n",
    "\n",
    "$$\\vert f(x_1) - f(x_2)\\vert \\leq K\\vert x_1 - x_2\\vert , K \\geq 0 $$\n",
    "\n",
    "for any $x_1 , x_2$. Lipschitz continuity is easy to achieve in neural networks by clipping any gradient value that's larger than K to be K ([gradient clipping](https://pytorch.org/docs/stable/generated/torch.nn.utils.clip_grad_norm_.html)), or simply clipping the weight values to a constant value ([weight clipping](https://pytorch.org/docs/stable/generated/torch.clamp.html))."
   ]
  },
  {
   "cell_type": "markdown",
   "metadata": {
    "id": "EKjKBBvyZfW8"
   },
   "source": [
    "Finally, the Wasserstein loss is written as follows:\n",
    "\n",
    "$$\\text{G-loss:} -\\mathbb{E}_{fake}[D(x)]$$\n",
    "\n",
    "$$\\text{D-loss:} \\mathbb{E}_{fake}[D(x)] - \\mathbb{E}_{real}[D(x)]$$\n",
    "\n",
    "However, there are also some issues with gradient clipping when training a very deep neural network. First, if the gradients/weights are clamped to $[-c, c]$ too often, they tend to stick with $-c$ or $c$ by the end of training while only a few parameters have values between the two ends. Second, clamping the gradients to a larger or smaller range could cause \"invisible\" gradient vanishing or explosion.\n",
    "\n",
    "We call it \"invisible\" because even though the gradient values are extremely large, they are eventually clamped to [-c, c]. But it will be a complete waste of computational resources. Therefore, Ishaan Gulrajani, Faruk Ahmed, Martin Arjovsky, et. al. proposed to add a penalty term to the discriminator loss, namely, gradient penalty, in their paper, *Improved Training of Wasserstein GANs*:\n",
    "\n",
    "$$\\mathbb{E}_{fake}[D(\\hat{x})] - \\mathbb{E}_{real}[D(x)] + \\lambda \\mathbb{E}_{\\hat{x}}[\\vert\\vert \\frac{\\partial D(\\hat{x})}{\\partial \\hat{x}}\\vert\\vert_2 - 1]^2$$\n",
    "\n",
    "$$ \\hat{x} = \\alpha x_{real} + (1 - \\alpha) x_{fake}\\ , \\ \\alpha \\sim \\mathbb{U}(0, 1)$$"
   ]
  },
  {
   "cell_type": "markdown",
   "metadata": {
    "id": "DcTpRFFFZfW8"
   },
   "source": [
    "The penalty gradient is calculated with regards to a random interpolation between a pair of real data and fake data.\n",
    "\n",
    "In a nutshell, to use Wasserstein loss, you'll need to do the following:\n",
    "\n",
    "- Get rid of the Sigmoid function at the last layer of the discriminator network.\n",
    "- Don't apply the log function to the results when calculating the loss.\n",
    "- Use the gradient penalty (or simply clip the weights in shallow neural networks).\n",
    "- Use RMSprop instead of Momentum or Adam to train your networks."
   ]
  },
  {
   "cell_type": "code",
   "execution_count": null,
   "metadata": {
    "id": "rmsMh3z2ZfW8"
   },
   "outputs": [],
   "source": [
    "def calculate_discriminator_loss(real, generated, batch_size, discriminator):\n",
    "\n",
    "    disc_out_gen = discriminator(generated)\n",
    "    disc_out_real = discriminator(real)\n",
    "    alpha = torch.FloatTensor(batch_size, 1, 1).uniform_(0, 1).to('cuda')\n",
    "    alpha = alpha.expand(batch_size, real.size(1), real.size(2))\n",
    "\n",
    "    #gradient penalty !!!!\n",
    "    interpolated = (1 - alpha) * real.data + (alpha) * generated.data[:batch_size]\n",
    "    interpolated = Variable(interpolated, requires_grad=True)\n",
    "\n",
    "    # calculate probability of interpolated examples\n",
    "    prob_interpolated = discriminator(interpolated)\n",
    "    grad_inputs = interpolated\n",
    "    ones = torch.ones(prob_interpolated.size()).to('cuda')\n",
    "    gradients = grad(\n",
    "        outputs=prob_interpolated,\n",
    "        inputs=grad_inputs,\n",
    "        grad_outputs=ones,\n",
    "        create_graph=True,\n",
    "        retain_graph=True,\n",
    "        only_inputs=True,\n",
    "    )[0]\n",
    "    # calculate gradient penalty\n",
    "    grad_penalty = (\n",
    "        10\n",
    "        * ((gradients.view(gradients.size(0), -1).norm(2, dim=1) - 1) ** 2).mean()\n",
    "    )\n",
    "    assert not (torch.isnan(grad_penalty))\n",
    "    assert not (torch.isnan(disc_out_gen.mean()))\n",
    "    assert not (torch.isnan(disc_out_real.mean()))\n",
    "    cost_wd = disc_out_gen.mean() - disc_out_real.mean()\n",
    "    cost = cost_wd + grad_penalty\n",
    "    return cost, cost_wd"
   ]
  },
  {
   "cell_type": "code",
   "execution_count": null,
   "metadata": {
    "id": "J1p_2Qn2ZfW9"
   },
   "outputs": [],
   "source": [
    "def trim_axs(axs, N):\n",
    "    \"\"\"little helper to massage the axs list to have correct length...\"\"\"\n",
    "    axs = axs.flat\n",
    "    for ax in axs[N:]:\n",
    "        ax.remove()\n",
    "    return axs[:N]"
   ]
  },
  {
   "cell_type": "code",
   "execution_count": null,
   "metadata": {
    "id": "cP-KlW-YZfW9"
   },
   "outputs": [],
   "source": [
    "def show_batch(real_samples, generator, latent_dim, batch_size, grid_size, epoch_info, path_to_save):\n",
    "    z = Variable(torch.randn(batch_size, latent_dim, dtype=torch.float, device='cuda'))\n",
    "    real_ts = real_samples\n",
    "    with torch.no_grad():\n",
    "        gen_waves = generator(z)\n",
    "    gen_waves = gen_waves.to('cpu')\n",
    "    x_grid = make_grid(gen_waves, nrow=grid_size, padding=2)\n",
    "    x_grid_real = make_grid(real_ts, nrow=grid_size, padding=2)    \n",
    "    cols = grid_size\n",
    "    rows = batch_size // cols + 1\n",
    "    fig, axs = plt.subplots(rows, cols, figsize=(22,12), constrained_layout=True)\n",
    "    axs = trim_axs(axs, batch_size)\n",
    "    for i, ax in enumerate(axs):\n",
    "        ax.plot(x_grid[i].view(x_grid.shape[-1]).detach().numpy(), label='fake')\n",
    "        ax.plot(x_grid_real[i].view(x_grid_real.shape[-1]).cpu().detach().numpy(), alpha=0.5, label='real')        \n",
    "        ax.set_xticks([])\n",
    "    fig.suptitle(f'Epoch: {epoch_info[0]}', fontsize=18)\n",
    "    plt.savefig(path_to_save + f'sample_waves_{epoch_info[0]}.png', bbox_inches='tight')\n",
    "    plt.show()"
   ]
  },
  {
   "cell_type": "code",
   "execution_count": null,
   "metadata": {
    "id": "WVrbC2E2ZfW9"
   },
   "outputs": [],
   "source": [
    "G = my_WaveGanGen()\n",
    "D = my_WaveGANDiscriminator()"
   ]
  },
  {
   "cell_type": "code",
   "execution_count": null,
   "metadata": {
    "id": "lUzYw_75ZfW9"
   },
   "outputs": [],
   "source": [
    "G.to('cuda');\n",
    "D.to('cuda');"
   ]
  },
  {
   "cell_type": "code",
   "execution_count": null,
   "metadata": {
    "id": "aySpW9L-ZfW9"
   },
   "outputs": [],
   "source": [
    "def train(params):\n",
    "    generator = params['generator']\n",
    "    optimizer_g = params['optimizer_g']\n",
    "    descriminator = params['descriminator']\n",
    "    optimizer_d = params['optimizer_d']\n",
    "    data_loader = params['data_loader']\n",
    "    num_epochs = params['num_epochs'] \n",
    "    check_every = params['check_every']\n",
    "    decay_lr = params['decay_lr']\n",
    "    path_generator = params['path_generator']\n",
    "    path_descriminator = params['path_descriminator']\n",
    "    path_plots = params['path_plots']\n",
    "    \n",
    "    generator.train()\n",
    "    descriminator.train()\n",
    "    loss_desc = {\n",
    "        'train':[]\n",
    "    }\n",
    "    loss_gen = {\n",
    "        'train':[]\n",
    "    }\n",
    "    \n",
    "    for epoch in range(num_epochs):\n",
    "        running_loss_desc = 0.0\n",
    "        running_loss_gen = 0.0\n",
    "        len_data = len(data_loader.dataset)\n",
    "        for i, data in enumerate(data_loader):\n",
    "            batch_size = data['waveform'].shape[0]\n",
    "            enable_disc_disable_gen(descriminator,generator)\n",
    "            real_signal = data['waveform'].to('cuda')\n",
    "            noise = sample_noise(batch_size, 100)\n",
    "            apply_zero_grad(generator, optimizer_g, descriminator, optimizer_d)\n",
    "            valid = Variable(torch.FloatTensor(batch_size, 1).fill_(1.0), requires_grad=False)\n",
    "            fake = Variable(torch.FloatTensor(batch_size, 1).fill_(0.0), requires_grad=False)\n",
    "            generated = generator(noise)\n",
    "            disc_cost, disc_wd = calculate_discriminator_loss(\n",
    "                real_signal, generated, \n",
    "                batch_size, descriminator\n",
    "                )\n",
    "            assert not (torch.isnan(disc_cost))\n",
    "            running_loss_desc += disc_cost.item()\n",
    "            disc_cost.backward()\n",
    "            optimizer_d.step()\n",
    "            \n",
    "            apply_zero_grad(generator, optimizer_g, descriminator, optimizer_d)\n",
    "            enable_gen_disable_disc(descriminator, generator)\n",
    "            noise = sample_noise(batch_size, 100)\n",
    "            generated = generator(noise)\n",
    "            discriminator_output_fake = descriminator(generated)\n",
    "            generator_cost = -discriminator_output_fake.mean()\n",
    "            running_loss_gen += generator_cost.item()\n",
    "            generator_cost.backward()\n",
    "            optimizer_g.step()\n",
    "            disable_all(descriminator,generator)\n",
    "            \n",
    "            # lr decay\n",
    "            if decay_lr:\n",
    "                decay = max(0.0, 1.0 - (epoch * 1.0 / num_epochs))\n",
    "                # update the learning rate\n",
    "                update_optimizer_lr(optimizer_d, lr_d, decay)\n",
    "                update_optimizer_lr(optimizer_g, lr_g, decay)\n",
    "            \n",
    "        print(f'Epoch {epoch} -> loss_D_real: {running_loss_desc/float(len_data):.4f}, loss_G: {running_loss_gen/float(len_data):.4f}', end='\\r')\n",
    "        \n",
    "        loss_desc['train'].append(running_loss_desc/float(len_data))\n",
    "        loss_gen['train'].append(running_loss_gen/float(len_data))        \n",
    "        if epoch % check_every == 0:\n",
    "            \n",
    "            torch.save(generator.state_dict(), path_generator + f'generator_{epoch}.pth')            \n",
    "            torch.save(descriminator.state_dict(), path_descriminator + f'descriminator_{epoch}.pth')            \n",
    "            generator.eval()\n",
    "            with torch.no_grad():\n",
    "                print(real_signal.shape)\n",
    "                bv = next(iter(val_loader))\n",
    "                show_batch(bv['waveform'].to('cuda'), generator,100,16,4,[epoch], path_plots)\n",
    "            \n",
    "    generator.eval()\n",
    "    return descriminator, generator, loss_desc, loss_gen"
   ]
  },
  {
   "cell_type": "code",
   "execution_count": null,
   "metadata": {
    "id": "qb9rxJ-bZfW9"
   },
   "outputs": [],
   "source": [
    "lr_g = 1e-4\n",
    "lr_d = 3e-4 \n",
    "beta1 = 0.5\n",
    "beta2 = 0.9\n",
    "\n",
    "optimizer_g = optim.Adam(G.parameters(), lr=lr_g, betas=(beta1, beta2)) \n",
    "optimizer_d = optim.Adam(D.parameters(), lr=lr_d, betas=(beta1, beta2))"
   ]
  },
  {
   "cell_type": "code",
   "execution_count": null,
   "metadata": {
    "id": "RUOydS0IZfW-"
   },
   "outputs": [],
   "source": [
    "parms_train = {\n",
    "    'generator':G,\n",
    "    'optimizer_g':optimizer_g,\n",
    "    'descriminator':D,\n",
    "    'optimizer_d':optimizer_d,\n",
    "    'data_loader':trn_loader,\n",
    "    'num_epochs':501, \n",
    "    'check_every':50,\n",
    "    'decay_lr':False,\n",
    "    'path_generator':'gdrive/MyDrive/2nd Workshop GW/Notebooks/models/generators/',\n",
    "    'path_descriminator':'gdrive/MyDrive/2nd Workshop GW/Notebooks/models/discriminators/',\n",
    "    'path_plots':'gdrive/MyDrive/2nd Workshop GW/Notebooks/plots/'\n",
    "}"
   ]
  },
  {
   "cell_type": "code",
   "execution_count": null,
   "metadata": {
    "colab": {
     "base_uri": "https://localhost:8080/",
     "height": 1000
    },
    "id": "G8S_zF8eZfW-",
    "outputId": "f6b8e094-9e1a-4aa6-cf44-f3e11532fd24"
   },
   "outputs": [],
   "source": [
    "DT, GT, ld, lg = train(parms_train)"
   ]
  },
  {
   "cell_type": "code",
   "execution_count": null,
   "metadata": {
    "id": "Fl7G0asFZfW-"
   },
   "outputs": [],
   "source": []
  }
 ],
 "metadata": {
  "accelerator": "GPU",
  "colab": {
   "collapsed_sections": [
    "gX39TgtpZfW3",
    "YUZuNWwKZfW7",
    "3H7vwmLuZfW8"
   ],
   "name": "Aula 4-Simple.ipynb",
   "provenance": []
  },
  "gpuClass": "standard",
  "kernelspec": {
   "display_name": "Fastai:V2",
   "language": "python",
   "name": "fastai_v2"
  },
  "language_info": {
   "codemirror_mode": {
    "name": "ipython",
    "version": 3
   },
   "file_extension": ".py",
   "mimetype": "text/x-python",
   "name": "python",
   "nbconvert_exporter": "python",
   "pygments_lexer": "ipython3",
   "version": "3.9.11"
  }
 },
 "nbformat": 4,
 "nbformat_minor": 4
}
